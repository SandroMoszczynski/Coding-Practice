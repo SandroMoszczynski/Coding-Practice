{
 "cells": [
  {
   "cell_type": "markdown",
   "metadata": {},
   "source": [
    "# question 1"
   ]
  },
  {
   "cell_type": "markdown",
   "metadata": {},
   "source": [
    "You are given an input string that controls the movement of a robot, each character instructing it to move one step north, south, east or west. E.g. \"NW\" moves the robot one step north and then one step west, or \"SE\" moves the robot one step south and one step east. Write a function that counts the number of locations that the robot visits more than once, including possibly its starting point. You should ignore any characters that are not capital N, S, E or W.\n",
    "\n",
    "For example:\n",
    "\n",
    "    \"NS\" returns 1\n",
    "    \"WEWNES\" returns 2\n",
    "    \"SxWxNxN\" returns 0\n",
    "\n",
    "    [execution time limit] 4 seconds (py3)\n",
    "\n",
    "    [input] string directions\n",
    "\n",
    "    The string describing the robots movements\n",
    "\n",
    "    [output] integer\n",
    "\n",
    "    The number of locations visited more than once\n"
   ]
  },
  {
   "cell_type": "code",
   "execution_count": 1,
   "metadata": {},
   "outputs": [
    {
     "data": {
      "text/plain": [
       "(0, 0)"
      ]
     },
     "execution_count": 1,
     "metadata": {},
     "output_type": "execute_result"
    }
   ],
   "source": [
    "t = (0,0)\n",
    "t"
   ]
  },
  {
   "cell_type": "code",
   "execution_count": 2,
   "metadata": {},
   "outputs": [
    {
     "ename": "IndexError",
     "evalue": "tuple index out of range",
     "output_type": "error",
     "traceback": [
      "\u001b[1;31m---------------------------------------------------------------------------\u001b[0m",
      "\u001b[1;31mIndexError\u001b[0m                                Traceback (most recent call last)",
      "\u001b[1;32m<ipython-input-2-b29f5b98bb6a>\u001b[0m in \u001b[0;36m<module>\u001b[1;34m\u001b[0m\n\u001b[1;32m----> 1\u001b[1;33m \u001b[0mt\u001b[0m\u001b[1;33m[\u001b[0m\u001b[1;36m0\u001b[0m\u001b[1;33m]\u001b[0m\u001b[1;33m,\u001b[0m\u001b[0mt\u001b[0m\u001b[1;33m[\u001b[0m\u001b[1;36m1\u001b[0m\u001b[1;33m]\u001b[0m\u001b[1;33m,\u001b[0m\u001b[0mt\u001b[0m\u001b[1;33m[\u001b[0m\u001b[1;36m2\u001b[0m\u001b[1;33m]\u001b[0m\u001b[1;33m\u001b[0m\u001b[1;33m\u001b[0m\u001b[0m\n\u001b[0m",
      "\u001b[1;31mIndexError\u001b[0m: tuple index out of range"
     ]
    }
   ],
   "source": [
    "t[0],t[1],t[2]"
   ]
  },
  {
   "cell_type": "code",
   "execution_count": 5,
   "metadata": {},
   "outputs": [],
   "source": [
    "xy = list(t)"
   ]
  },
  {
   "cell_type": "code",
   "execution_count": 7,
   "metadata": {},
   "outputs": [],
   "source": [
    "xy = [(0,0)]"
   ]
  },
  {
   "cell_type": "code",
   "execution_count": 8,
   "metadata": {},
   "outputs": [
    {
     "data": {
      "text/plain": [
       "[(0, 0), (1, 0)]"
      ]
     },
     "execution_count": 8,
     "metadata": {},
     "output_type": "execute_result"
    }
   ],
   "source": [
    "xy.append((1,0))\n",
    "xy"
   ]
  },
  {
   "cell_type": "code",
   "execution_count": 9,
   "metadata": {},
   "outputs": [
    {
     "data": {
      "text/plain": [
       "(0, 0)"
      ]
     },
     "execution_count": 9,
     "metadata": {},
     "output_type": "execute_result"
    }
   ],
   "source": [
    "xy[0]"
   ]
  },
  {
   "cell_type": "code",
   "execution_count": 10,
   "metadata": {},
   "outputs": [
    {
     "data": {
      "text/plain": [
       "0"
      ]
     },
     "execution_count": 10,
     "metadata": {},
     "output_type": "execute_result"
    }
   ],
   "source": [
    "xy[0][0]"
   ]
  },
  {
   "cell_type": "code",
   "execution_count": 11,
   "metadata": {},
   "outputs": [],
   "source": [
    "def nsew2(directions):\n",
    "    Directions = [s for s in directions if s.isupper()]\n",
    "    positions=[(0,0)]\n",
    "    count = 0\n",
    "    for i,pos in enumerate(Directions):  \n",
    "        x=positions[i][0]  \n",
    "        y=positions[i][1]    \n",
    "        if pos == 'N':\n",
    "            x += 1\n",
    "        elif pos == 'S':\n",
    "            x -= 1\n",
    "        elif pos == 'W':\n",
    "            y += 1\n",
    "        elif pos == 'E':\n",
    "            y -= 1\n",
    "        xy = (x,y)\n",
    "        if xy in positions[:1]:\n",
    "            count += 1\n",
    "        positions.append(xy)\n",
    "        #print(positions[i])  \n",
    "    return count"
   ]
  },
  {
   "cell_type": "markdown",
   "metadata": {},
   "source": [
    "# question 2"
   ]
  },
  {
   "cell_type": "markdown",
   "metadata": {},
   "source": [
    "Write a function that displays the longest strict palindrome in a string. A strict palindrome reads exactly the same backwards as it does forwards, and respects all characters and letter case. E.g. \"racecar\" is a strict palindrome but \"Racecar\" and \"race car\" are not. If there is more than one palindrome with the longest length, then your code should display the first of those palindromes.\n",
    "\n",
    "For example:\n",
    "\n",
    "    \"bob has a racecar\" returns \"racecar\"\n",
    "    \"bob has a racecar and a bike\" returns \"a racecar a\"\n",
    "    \"anna arrived at noon\" returns \"anna\"\n",
    "\n",
    "    [execution time limit] 4 seconds (py3)\n",
    "\n",
    "    [input] string input\n",
    "\n",
    "    The input string\n",
    "\n",
    "    [output] string\n",
    "\n",
    "    The longest strict palindrome from the input string\n"
   ]
  },
  {
   "cell_type": "code",
   "execution_count": 12,
   "metadata": {},
   "outputs": [
    {
     "name": "stdout",
     "output_type": "stream",
     "text": [
      "f\n",
      "kle\n"
     ]
    }
   ],
   "source": [
    "string = \"waklefjsl\"\n",
    "print(string[5])\n",
    "print(string[2:5])"
   ]
  },
  {
   "cell_type": "code",
   "execution_count": 34,
   "metadata": {},
   "outputs": [],
   "source": [
    "def longestStrictPalindrome(input):\n",
    "    palindromes = []\n",
    "    for i in range(len(input)): #reverse order to find the longest\n",
    "        for j in range(len(input),0,-1):     # arbitary to just remove some data\n",
    "            count = 0\n",
    "            testcase = input[i:j]\n",
    "            #print(testcase)\n",
    "            if testcase == testcase[::-1]:\n",
    "                palindromes.append(testcase)\n",
    "                #print(testcase)\n",
    "                #print(\"found\")\n",
    "                count += 1\n",
    "                break\n",
    "        #if count:\n",
    "            #break\n",
    "            #print(testcase)\n",
    "        #print(input[:i])\n",
    "    return max(palindromes, key=len)\n",
    "    #,palindromes\n",
    "    #print(input.find(palindromes[0]))\n",
    "    #print(min([input.find(palin for palin in palindromes)]))"
   ]
  },
  {
   "cell_type": "code",
   "execution_count": 35,
   "metadata": {},
   "outputs": [
    {
     "data": {
      "text/plain": [
       "'a racecar a'"
      ]
     },
     "execution_count": 35,
     "metadata": {},
     "output_type": "execute_result"
    }
   ],
   "source": [
    "longestStrictPalindrome(\"bob has a racecar and a bike\")"
   ]
  },
  {
   "cell_type": "code",
   "execution_count": 36,
   "metadata": {},
   "outputs": [
    {
     "data": {
      "text/plain": [
       "'anna'"
      ]
     },
     "execution_count": 36,
     "metadata": {},
     "output_type": "execute_result"
    }
   ],
   "source": [
    "longestStrictPalindrome(\"anna arrived at noon\")"
   ]
  },
  {
   "cell_type": "markdown",
   "metadata": {},
   "source": [
    "# question 3"
   ]
  },
  {
   "cell_type": "markdown",
   "metadata": {},
   "source": [
    "codewriting\n",
    "\n",
    "Write a function that takes in two strings and returns the number of words that appear in both strings. For the purpose of this exercise, a word is defined as any consecutive string of letters (a-z, upper or lower case), hyphens or apostrophes - hence spaces and other characters act as word separators. Two words are considered the same if every character in them matches exactly, including the case of each of the letters.\n",
    "\n",
    "For example:\n",
    "\n",
    "    \"Yes, we all really like pizza.\" and \"Where can we buy pizza around here?\" returns 2\n",
    "    \"There were four people at dinner.\" and \"There were seven people at dinner.\" returns 5\n",
    "\n",
    "    [execution time limit] 4 seconds (py3)\n",
    "\n",
    "    [input] string first\n",
    "\n",
    "    [input] string second\n",
    "\n",
    "    [output] integer\n",
    "\n",
    "    The number of words present in both inputs\n"
   ]
  },
  {
   "cell_type": "code",
   "execution_count": 38,
   "metadata": {},
   "outputs": [],
   "source": [
    "def numberOfCommonWords(first, second):\n",
    "    first = first.translate(str.maketrans('', '', '!@#$?,.'))#interesting, need to look into this\n",
    "    fs = first.split(\" \")\n",
    "    count = 0\n",
    "    print(fs)\n",
    "    for item in fs:\n",
    "        if item.lower() in second.lower():\n",
    "            print(item)\n",
    "            count+=1\n",
    "    return count"
   ]
  },
  {
   "cell_type": "code",
   "execution_count": null,
   "metadata": {},
   "outputs": [],
   "source": []
  }
 ],
 "metadata": {
  "kernelspec": {
   "display_name": "MLBDenv",
   "language": "python",
   "name": "mlbdenv"
  },
  "language_info": {
   "codemirror_mode": {
    "name": "ipython",
    "version": 3
   },
   "file_extension": ".py",
   "mimetype": "text/x-python",
   "name": "python",
   "nbconvert_exporter": "python",
   "pygments_lexer": "ipython3",
   "version": "3.7.7"
  }
 },
 "nbformat": 4,
 "nbformat_minor": 4
}
